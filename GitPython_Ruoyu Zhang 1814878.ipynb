{
 "cells": [
  {
   "cell_type": "markdown",
   "metadata": {},
   "source": [
    "\n"
   ]
  },
  {
   "cell_type": "markdown",
   "metadata": {},
   "source": [
    "# Load libraries"
   ]
  },
  {
   "cell_type": "code",
   "execution_count": 11,
   "metadata": {},
   "outputs": [],
   "source": [
    "import numpy as np\n",
    "import pandas as pd\n",
    "import os\n",
    "\n",
    "# Specify git executable file for GitPython in Jupyter Notebook (In IDE, it can still work without this line.)\n",
    "os.environ[\"GIT_PYTHON_GIT_EXECUTABLE\"] = \"/usr/local/bin/git\"\n",
    "\n",
    "import git\n",
    "from git import RemoteProgress\n",
    "\n",
    "from git import Repo\n",
    "import matplotlib.pyplot as plt\n",
    "import seaborn as sns\n",
    "%matplotlib inline"
   ]
  },
  {
   "cell_type": "markdown",
   "metadata": {},
   "source": [
    "# Clone repo from GitHub"
   ]
  },
  {
   "cell_type": "markdown",
   "metadata": {},
   "source": [
    "Link: https://git-scm.com/docs/git-clone <br>\n",
    "<b>Note:</b> In case too-long file path issue occurs in Windows, set <code>git config --system core.longpaths true</code>"
   ]
  },
  {
   "cell_type": "code",
   "execution_count": 157,
   "metadata": {},
   "outputs": [],
   "source": [
    "class Progress(RemoteProgress):\n",
    "    def update(self, op_code, cur_count, max_count=None, message=''):\n",
    "        print(self._cur_line)"
   ]
  },
  {
   "cell_type": "code",
   "execution_count": 285,
   "metadata": {},
   "outputs": [],
   "source": [
    "remote_link = \"https://github.com/vert-x3/vertx-web\"\n",
    "local_link = \"/Users/deepsky/Documents/vertx-web\"\n",
    "# Uncomment to clone\n",
    "# Repo.clone_from(remote_link, local_link, progress=Progress())"
   ]
  },
  {
   "cell_type": "code",
   "execution_count": 286,
   "metadata": {},
   "outputs": [],
   "source": [
    "repo = Repo(local_link)\n",
    "fixing_commit = \"57a65dce6f4c5aa5e3ce7288685e7f3447eb8f3b\"\n",
    "affected_file = \"vertx-web/src/main/java/io/vertx/ext/web/handler/impl/StaticHandlerImpl.java\"\n",
    "affected_file2= \"vertx-web/src/test/java/io/vertx/ext/web/handler/StaticHandlerTest.java\""
   ]
  },
  {
   "cell_type": "markdown",
   "metadata": {},
   "source": [
    "# Show info of a commit\n",
    "Link: https://git-scm.com/docs/git-show\n",
    "You can explore different parameters."
   ]
  },
  {
   "cell_type": "code",
   "execution_count": 287,
   "metadata": {},
   "outputs": [
    {
     "name": "stdout",
     "output_type": "stream",
     "text": [
      "commit 57a65dce6f4c5aa5e3ce7288685e7f3447eb8f3b\n",
      "Author: Julien Viet <julien@julienviet.com>\n",
      "Date:   Thu Sep 20 09:42:30 2018 +0200\n",
      "\n",
      "    CVE-2018-12542: The StaticHandler uses external input to construct a pathname that should be within a restricted directory, but it does not properly neutralize '\\' (forward slashes) sequences that can resolve to a location that is outside of that directory when running on Windows Operating Systems. - fixes #1025\n"
     ]
    }
   ],
   "source": [
    "show_data = repo.git.show(\"-s\", fixing_commit).splitlines()\n",
    "for line in show_data:\n",
    "    print(line)"
   ]
  },
  {
   "cell_type": "markdown",
   "metadata": {},
   "source": [
    "# Show all developers across all branches\n",
    "Link: https://git-scm.com/docs/git-shortlog"
   ]
  },
  {
   "cell_type": "code",
   "execution_count": 288,
   "metadata": {},
   "outputs": [],
   "source": [
    "commit_authors = repo.git.shortlog(\"-sne\", \"--all\").splitlines()\n",
    "\n",
    "author_commits = []\n",
    "\n",
    "for commit_author in commit_authors:\n",
    "    commit, author = commit_author.split(\"\\t\")\n",
    "    author_commits.append([int(commit), author])"
   ]
  },
  {
   "cell_type": "code",
   "execution_count": 289,
   "metadata": {},
   "outputs": [],
   "source": [
    "df = pd.DataFrame(author_commits, columns=['Commit', 'Author'])"
   ]
  },
  {
   "cell_type": "code",
   "execution_count": 290,
   "metadata": {},
   "outputs": [
    {
     "data": {
      "text/html": [
       "<div>\n",
       "<style scoped>\n",
       "    .dataframe tbody tr th:only-of-type {\n",
       "        vertical-align: middle;\n",
       "    }\n",
       "\n",
       "    .dataframe tbody tr th {\n",
       "        vertical-align: top;\n",
       "    }\n",
       "\n",
       "    .dataframe thead th {\n",
       "        text-align: right;\n",
       "    }\n",
       "</style>\n",
       "<table border=\"1\" class=\"dataframe\">\n",
       "  <thead>\n",
       "    <tr style=\"text-align: right;\">\n",
       "      <th></th>\n",
       "      <th>Commit</th>\n",
       "      <th>Author</th>\n",
       "    </tr>\n",
       "  </thead>\n",
       "  <tbody>\n",
       "    <tr>\n",
       "      <th>0</th>\n",
       "      <td>523</td>\n",
       "      <td>Julien Viet &lt;julien@julienviet.com&gt;</td>\n",
       "    </tr>\n",
       "    <tr>\n",
       "      <th>1</th>\n",
       "      <td>387</td>\n",
       "      <td>Paulo Lopes &lt;paulo@mlopes.net&gt;</td>\n",
       "    </tr>\n",
       "    <tr>\n",
       "      <th>2</th>\n",
       "      <td>333</td>\n",
       "      <td>Paulo Lopes &lt;pmlopes@users.noreply.github.com&gt;</td>\n",
       "    </tr>\n",
       "    <tr>\n",
       "      <th>3</th>\n",
       "      <td>276</td>\n",
       "      <td>Paulo Lopes &lt;pmlopes@gmail.com&gt;</td>\n",
       "    </tr>\n",
       "    <tr>\n",
       "      <th>4</th>\n",
       "      <td>213</td>\n",
       "      <td>Francesco Guardiani &lt;francescoguard@gmail.com&gt;</td>\n",
       "    </tr>\n",
       "  </tbody>\n",
       "</table>\n",
       "</div>"
      ],
      "text/plain": [
       "   Commit                                          Author\n",
       "0     523             Julien Viet <julien@julienviet.com>\n",
       "1     387                  Paulo Lopes <paulo@mlopes.net>\n",
       "2     333  Paulo Lopes <pmlopes@users.noreply.github.com>\n",
       "3     276                 Paulo Lopes <pmlopes@gmail.com>\n",
       "4     213  Francesco Guardiani <francescoguard@gmail.com>"
      ]
     },
     "execution_count": 290,
     "metadata": {},
     "output_type": "execute_result"
    }
   ],
   "source": [
    "df.head()"
   ]
  },
  {
   "cell_type": "markdown",
   "metadata": {},
   "source": [
    "## Top 10 most active developers in the project"
   ]
  },
  {
   "cell_type": "code",
   "execution_count": 291,
   "metadata": {},
   "outputs": [
    {
     "data": {
      "text/plain": [
       "<AxesSubplot:xlabel='Commit', ylabel='Author'>"
      ]
     },
     "execution_count": 291,
     "metadata": {},
     "output_type": "execute_result"
    },
    {
     "data": {
      "image/png": "[encoded data removed]",
      "text/plain": [
       "<Figure size 432x288 with 1 Axes>"
      ]
     },
     "metadata": {
      "needs_background": "light"
     },
     "output_type": "display_data"
    }
   ],
   "source": [
    "sns.barplot(y='Author', x=\"Commit\", data=df[:10])"
   ]
  },
  {
   "cell_type": "markdown",
   "metadata": {},
   "source": [
    "# Code changes between 2 commits\n",
    "<b>Note:</b> Watch out for the initial commit (no parent commit)"
   ]
  },
  {
   "cell_type": "code",
   "execution_count": 292,
   "metadata": {},
   "outputs": [
    {
     "name": "stdout",
     "output_type": "stream",
     "text": [
      "diff --git a/vertx-web/src/main/java/io/vertx/ext/web/handler/impl/StaticHandlerImpl.java b/vertx-web/src/main/java/io/vertx/ext/web/handler/impl/StaticHandlerImpl.java\n",
      "index 7e456617..15f62d9a 100644\n",
      "--- a/vertx-web/src/main/java/io/vertx/ext/web/handler/impl/StaticHandlerImpl.java\n",
      "+++ b/vertx-web/src/main/java/io/vertx/ext/web/handler/impl/StaticHandlerImpl.java\n",
      "@@ -135,14 +135,27 @@ public class StaticHandlerImpl implements StaticHandler {\n",
      "       if (log.isTraceEnabled()) log.trace(\"Not GET or HEAD so ignoring request\");\n",
      "       context.next();\n",
      "     } else {\n",
      "-      String path = Utils.removeDots(Utils.urlDecode(context.normalisedPath(), false));\n",
      "-      // if the normalized path is null it cannot be resolved\n",
      "+      // we are trying to match a URL path to a Filesystem path, so the first step\n",
      "+      // is to url decode the normalized path so avoid misinterpretations\n",
      "+      String path = Utils.urlDecode(context.normalisedPath(), false);\n",
      "+\n",
      "       if (path == null) {\n",
      "+        // if the normalized path is null it cannot be resolved\n",
      "         log.warn(\"Invalid path: \" + context.request().path());\n",
      "         context.next();\n",
      "         return;\n",
      "       }\n",
      " \n",
      "+      if (File.separatorChar != '/') {\n",
      "+        // although forward slashes are not path separators according to the rfc3986 if\n",
      "+        // used directly to access the filesystem on Windows, they would be treated as such\n",
      "+        // Instead of relying on the usual normalized method, all forward slashes must be\n",
      "+        // replaced by backslashes in this handler.\n",
      "+        path = path.replace(File.separatorChar, '/');\n",
      "+      }\n",
      "+      // clean the .. sequences according to rfc3986\n",
      "+      path = Utils.removeDots(path);\n",
      "+\n",
      "       // only root is known for sure to be a directory. all other directories must be identified as such.\n",
      "       if (!directoryListing && \"/\".equals(path)) {\n",
      "         path = indexPage;\n",
      "diff --git a/vertx-web/src/test/java/io/vertx/ext/web/handler/StaticHandlerTest.java b/vertx-web/src/test/java/io/vertx/ext/web/handler/StaticHandlerTest.java\n",
      "index cbd8abcb..6948b715 100644\n",
      "--- a/vertx-web/src/test/java/io/vertx/ext/web/handler/StaticHandlerTest.java\n",
      "+++ b/vertx-web/src/test/java/io/vertx/ext/web/handler/StaticHandlerTest.java\n",
      "@@ -705,6 +705,10 @@ public class StaticHandlerTest extends WebTestBase {\n",
      "     testRequest(HttpMethod.GET, \"/not-existing-file.html\", 200, \"OK\", \"Howdy!\");\n",
      "   }\n",
      " \n",
      "+  @Test\n",
      "+  public void testEscapeRootFromWindows() throws Exception {\n",
      "+    testRequest(HttpMethod.GET, \"/somedir/..\\\\..\\\\somedir/test-template.html\", 404, \"Not Found\");\n",
      "+  }\n",
      " \n",
      "   // TODO\n",
      "   // 1.Test all the params including invalid values\n"
     ]
    }
   ],
   "source": [
    "diff_data = repo.git.diff(fixing_commit + \"^\", fixing_commit).splitlines()\n",
    "for line in diff_data:\n",
    "    print(line)"
   ]
  },
  {
   "cell_type": "markdown",
   "metadata": {},
   "source": [
    "# Identify the last commit that changes a line modified in the current commit"
   ]
  },
  {
   "cell_type": "markdown",
   "metadata": {},
   "source": [
    "Link: https://git-scm.com/docs/git-blame"
   ]
  },
  {
   "cell_type": "code",
   "execution_count": 488,
   "metadata": {
    "scrolled": true
   },
   "outputs": [
    {
     "name": "stdout",
     "output_type": "stream",
     "text": [
      "57a65dce6 (Julien Viet 2018-09-20 09:42:30 +0200 140)       String path = Utils.urlDecode(context.normalisedPath(), false);\n",
      "57a65dce6 (Julien Viet 2018-09-20 09:42:30 +0200 141) \n"
     ]
    }
   ],
   "source": [
    "blame_data = repo.git.blame(\"-L 140, +141\", fixing_commit,\"-2\", affected_file).splitlines()\n",
    "for line in blame_data:\n",
    "    print(line)"
   ]
  },
  {
   "cell_type": "markdown",
   "metadata": {},
   "source": [
    "# Show all the commit history between two commits"
   ]
  },
  {
   "cell_type": "markdown",
   "metadata": {},
   "source": [
    "Link: https://git-scm.com/docs/git-log <br> Watch out for initial commit (no parent commit)"
   ]
  },
  {
   "cell_type": "code",
   "execution_count": 444,
   "metadata": {},
   "outputs": [
    {
     "name": "stdout",
     "output_type": "stream",
     "text": [
      "Number of commits in between: 248\n"
     ]
    }
   ],
   "source": [
    "last_commit = blame_data[0].strip().split()[0]\n",
    "log_data = repo.git.log(fixing_commit, affected_file).splitlines()\n",
    "print(\"Number of commits in between:\", len(log_data))"
   ]
  },
  {
   "cell_type": "code",
   "execution_count": 445,
   "metadata": {
    "scrolled": true
   },
   "outputs": [
    {
     "data": {
      "text/plain": [
       "['commit 57a65dce6f4c5aa5e3ce7288685e7f3447eb8f3b',\n",
       " 'Author: Julien Viet <julien@julienviet.com>',\n",
       " 'Date:   Thu Sep 20 09:42:30 2018 +0200',\n",
       " '',\n",
       " \"    CVE-2018-12542: The StaticHandler uses external input to construct a pathname that should be within a restricted directory, but it does not properly neutralize '\\\\' (forward slashes) sequences that can resolve to a location that is outside of that directory when running on Windows Operating Systems. - fixes #1025\",\n",
       " '',\n",
       " 'commit e4c9b2cd31b96e9779a218f4ef5b9075ebac06a2',\n",
       " 'Author: Rb Krishna <krishnarb3@gmail.com>',\n",
       " 'Date:   Mon Jan 29 14:15:42 2018 +0530',\n",
       " '',\n",
       " '    Add tests for Http2Push and link preload',\n",
       " '    ',\n",
       " '    Signed-off-by: Rb Krishna <krishnarb3@gmail.com>',\n",
       " '',\n",
       " 'commit d3e1927fd2ccd255b2d619a770b4e863fc63feaf',\n",
       " 'Author: Rb Krishna <krishnarb3@gmail.com>',\n",
       " 'Date:   Fri Jan 12 14:44:31 2018 +0530',\n",
       " '',\n",
       " '    Remove logs and copy http2push mapping in setHttp2PushMapping when not null',\n",
       " '    ',\n",
       " '    Signed-off-by: Rb Krishna <krishnarb3@gmail.com>',\n",
       " '',\n",
       " 'commit 687d0bed3532926e334d76063d308a1431a3a4f1',\n",
       " 'Author: Rb Krishna <krishnarb3@gmail.com>',\n",
       " 'Date:   Wed Sep 27 20:32:52 2017 +0530',\n",
       " '',\n",
       " '    Write separate link headers to response in http2push',\n",
       " '    ',\n",
       " '    Signed-off-by: Rb Krishna <krishnarb3@gmail.com>',\n",
       " '',\n",
       " 'commit d75efb2163d2d813291874f28fa44dfb1a566d01',\n",
       " 'Author: Rb Krishna <krishnarb3@gmail.com>',\n",
       " 'Date:   Tue Sep 26 12:50:06 2017 +0530',\n",
       " '',\n",
       " '    Add class for Http2PushMapping data object with nopush attribute',\n",
       " '',\n",
       " 'commit c09e4b4a4532d8cf1872184142d65c4d4d20626c',\n",
       " 'Author: Rb Krishna <krishnarb3@gmail.com>',\n",
       " 'Date:   Mon Sep 18 20:51:50 2017 +0530',\n",
       " '',\n",
       " '    Add support for http2 web push and link preload',\n",
       " '    ',\n",
       " '    Signed-off-by: Rb Krishna <krishnarb3@gmail.com>',\n",
       " '',\n",
       " 'commit a63647f896ac2206e89f8f6d76a16b70abbedf8f',\n",
       " 'Author: Paulo Lopes <paulo@mlopes.net>',\n",
       " 'Date:   Sat Sep 16 18:39:29 2017 +0200',\n",
       " '',\n",
       " '    removed unused imports',\n",
       " '',\n",
       " 'commit d821b4d5781f12de49e78b9e0436c6e105b03449',\n",
       " 'Author: Paulo Lopes <paulo@mlopes.net>',\n",
       " 'Date:   Wed Aug 9 11:56:32 2017 +0200',\n",
       " '',\n",
       " '    Do not rely on exceptions to determine if a file exists',\n",
       " '',\n",
       " 'commit 18653a370d5269f697d2d0866a3d6a6b6136d320',\n",
       " 'Author: Paulo Lopes <paulo@mlopes.net>',\n",
       " 'Date:   Tue Aug 8 21:30:29 2017 +0200',\n",
       " '',\n",
       " '    remove test regarding failure handler which is wrong and added a test showing the new functionality',\n",
       " '',\n",
       " 'commit 3a0005d6141ade1db834e95e2274c1665600df23',\n",
       " 'Author: Paulo Lopes <paulo@mlopes.net>',\n",
       " 'Date:   Tue Aug 8 21:13:37 2017 +0200',\n",
       " '',\n",
       " '    use ctx.next instead of fail 404',\n",
       " '',\n",
       " 'commit fca5e8910b245fa0f5ff0f50c20154a5b7ef3e8e',\n",
       " 'Author: Paulo Lopes <paulo@mlopes.net>',\n",
       " 'Date:   Tue Jan 10 13:09:31 2017 +0100',\n",
       " '',\n",
       " '    add default content encoding setter',\n",
       " '',\n",
       " 'commit 3282b2fbdf06ac428f43c20275fd6dcc8f6a011a',\n",
       " 'Author: Paulo Lopes <paulo@mlopes.net>',\n",
       " 'Date:   Wed Dec 14 11:58:29 2016 +0100',\n",
       " '',\n",
       " '    Implemented normalization according to RFC',\n",
       " '',\n",
       " 'commit 17e48d3d68051c8397dc7f1a8967f04cc09b9f12',\n",
       " 'Author: Jonas Berlin <github@outerspace.dyndns.org>',\n",
       " 'Date:   Wed Nov 16 12:36:26 2016 +0200',\n",
       " '',\n",
       " '    StaticHandlerImpl: Fix handling of range end offset',\n",
       " '    ',\n",
       " '    From RFC7233:',\n",
       " '    ```',\n",
       " '    A client can limit the number of bytes requested without knowing the size of the selected representation.  If the last-byte-pos value is absent, or if the value is greater than or equal to the current length of the representation data, the byte range is interpreted as the remainder of the representation (i.e., the server replaces the value of last-byte-pos with a value that is one less than the current length of the selected representation).',\n",
       " '    ```',\n",
       " '    https://tools.ietf.org/html/rfc7233#section-2.1',\n",
       " '',\n",
       " 'commit 09a2463262b46b1826c088624f549b3cbb6f4f01',\n",
       " 'Merge: 93421cc4 0600b478',\n",
       " 'Author: Paulo Lopes <pmlopes@users.noreply.github.com>',\n",
       " 'Date:   Wed Sep 14 16:20:55 2016 +0200',\n",
       " '',\n",
       " '    Merge pull request #398 from bruders/issues/issue-397',\n",
       " '    ',\n",
       " '    Add Vary header when using caching and compression',\n",
       " '',\n",
       " 'commit 35c882a4d51b873e392c50144a8c337e0ead385e',\n",
       " 'Author: Paulo Lopes <paulo@mlopes.net>',\n",
       " 'Date:   Tue Aug 30 14:21:06 2016 +0200',\n",
       " '',\n",
       " '    Fixes #428: proper response for invalid ranges',\n",
       " '',\n",
       " 'commit 0600b478b8751cca4f5774c3e02290333a64ec02',\n",
       " 'Author: bruder.s@gmail.com <bruder.s@gmail.com>',\n",
       " 'Date:   Mon Jun 20 21:33:04 2016 +0200',\n",
       " '',\n",
       " '    Add Vary header when using caching',\n",
       " '    ',\n",
       " '    Signed-off-by: Christian Schönberger <bruder.s@gmail.com>',\n",
       " '',\n",
       " 'commit 821ad3027a0b5ea571d430bc5f8d069b67a8501d',\n",
       " 'Author: Paulo Lopes <paulo@mlopes.net>',\n",
       " 'Date:   Mon May 9 11:05:25 2016 +0200',\n",
       " '',\n",
       " '    merge master',\n",
       " '',\n",
       " 'commit d74c990c693579e4edd26011478a1db0ad37569e',\n",
       " 'Merge: de8b5496 a940aa01',\n",
       " 'Author: Paulo Lopes <paulo@mlopes.net>',\n",
       " 'Date:   Mon May 9 10:58:21 2016 +0200',\n",
       " '',\n",
       " \"    Merge branch 'master' into issues/342\",\n",
       " '    ',\n",
       " '    # Conflicts:',\n",
       " '    #       vertx-web/src/main/java/io/vertx/ext/web/handler/impl/StaticHandlerImpl.java',\n",
       " '',\n",
       " 'commit d0c398483ac1dfdd0786c92e0b8a01d9f67b30db',\n",
       " 'Author: Paulo Lopes <paulo@mlopes.net>',\n",
       " 'Date:   Fri May 6 15:13:51 2016 +0200',\n",
       " '',\n",
       " '    use internal API',\n",
       " '',\n",
       " 'commit f91911ab05a3de7d6a2a9275d7edc62a5189cf00',\n",
       " 'Merge: e47edce0 9ecefcf2',\n",
       " 'Author: Paulo Lopes <paulo@mlopes.net>',\n",
       " 'Date:   Fri May 6 15:04:32 2016 +0200',\n",
       " '',\n",
       " \"    Merge branch 'master' into issues/issue-319\",\n",
       " '    ',\n",
       " '    # Conflicts:',\n",
       " '    #       vertx-web/src/main/asciidoc/enums.adoc',\n",
       " '',\n",
       " 'commit 227d133e24a89caaf94d23376a72ae099cb109df',\n",
       " 'Merge: c1c55b4f 436f4432',\n",
       " 'Author: Paulo Lopes <paulo@mlopes.net>',\n",
       " 'Date:   Fri May 6 13:46:41 2016 +0200',\n",
       " '',\n",
       " \"    Merge branch 'master' into issues/342\",\n",
       " '    ',\n",
       " '    # Conflicts:',\n",
       " '    #       vertx-web/src/main/asciidoc/enums.adoc',\n",
       " '',\n",
       " 'commit 5e43109da65571499e3671e5178d5ec1c6b89ad8',\n",
       " 'Author: Paulo Lopes <paulo@mlopes.net>',\n",
       " 'Date:   Wed Mar 30 10:29:18 2016 +0200',\n",
       " '',\n",
       " '    Fixes #347: remove dead code',\n",
       " '',\n",
       " 'commit c1c55b4f98edf1514656961d3a294cacd95356b0',\n",
       " 'Author: Paulo Lopes <paulo@mlopes.net>',\n",
       " 'Date:   Tue Mar 22 13:48:14 2016 +0100',\n",
       " '',\n",
       " '    Fixes #342: do not call twice error handler',\n",
       " '',\n",
       " 'commit e47edce0930c78ad05dfe3696c63ee2a984b6043',\n",
       " 'Author: Paulo Lopes <paulo@mlopes.net>',\n",
       " 'Date:   Fri Mar 18 15:16:59 2016 +0100',\n",
       " '',\n",
       " '    Fixes #319: backport mimetype support from Yoke',\n",
       " '',\n",
       " 'commit a0d636338ac26897354921829b2f3db1202e25b6',\n",
       " 'Author: Paulo Lopes <paulo@mlopes.net>',\n",
       " 'Date:   Thu Feb 18 10:50:51 2016 +0100',\n",
       " '',\n",
       " '    fixes #299: Root paths check using Files.listRoots() instead of /',\n",
       " '',\n",
       " 'commit 366981c10ee8f679f570b6c62476467f6452d38b',\n",
       " 'Author: Sean Fitts <smfitts@gmail.com>',\n",
       " 'Date:   Sun Jan 24 15:48:05 2016 -0800',\n",
       " '',\n",
       " '    Null out cache entry when we decide not to use it.',\n",
       " '',\n",
       " 'commit a721e7a52110f907e1b2820a2fd1a87338ba108a',\n",
       " 'Merge: fdbef276 bd000b64',\n",
       " 'Author: Paulo Lopes <paulo@mlopes.net>',\n",
       " 'Date:   Thu Nov 19 11:29:14 2015 +0100',\n",
       " '',\n",
       " \"    Merge branch 'master' into issue/231\",\n",
       " '    ',\n",
       " '    # Conflicts:',\n",
       " '    #       vertx-web/src/test/java/io/vertx/ext/web/handler/StaticHandlerTest.java',\n",
       " '',\n",
       " 'commit bd000b6414ec1d7ef724b8816d443ba71acec9db',\n",
       " 'Merge: 8e463edb bc6f7aca',\n",
       " 'Author: Paulo Lopes <pmlopes@users.noreply.github.com>',\n",
       " 'Date:   Thu Nov 19 05:00:22 2015 -0500',\n",
       " '',\n",
       " '    Merge pull request #221 from vert-x3/issue/allow-root-access',\n",
       " '    ',\n",
       " '    Fixes #204',\n",
       " '',\n",
       " 'commit adb19d28c3ebeacda636b9d5bd22332ac6c1730d',\n",
       " 'Author: Clement Escoffier <clement.escoffier@gmail.com>',\n",
       " 'Date:   Sun Nov 8 12:15:10 2015 +0100',\n",
       " '',\n",
       " '    Fix exception handling in the TCCL switch',\n",
       " '',\n",
       " 'commit fdbef2766d04d625fa38cacc72b57a7577c78191',\n",
       " 'Author: Paulo Lopes <paulo@mlopes.net>',\n",
       " 'Date:   Fri Nov 6 10:41:35 2015 +0100',\n",
       " '',\n",
       " '    Fixes #231 when using async not found files return 404 not exception',\n",
       " '',\n",
       " 'commit dcdf1a2325d8aa2de5908f2d890757643018b498',\n",
       " 'Author: Clement Escoffier <clement.escoffier@gmail.com>',\n",
       " 'Date:   Mon Oct 19 13:50:34 2015 +0200',\n",
       " '',\n",
       " '    Improve the TCCL Switch in the StaticHandlerImpl',\n",
       " '    ',\n",
       " '    The last attempt forgot two places (using the file system directly).',\n",
       " '    This PR is needed for the Eclipse Equinox support',\n",
       " '    ',\n",
       " '    Signed-off-by: Clement Escoffier <clement.escoffier@gmail.com>',\n",
       " '',\n",
       " 'commit bc6f7aca8e8851f4ee2f6faefb4a9b80d63d74d1',\n",
       " 'Author: Paulo Lopes <paulo@mlopes.net>',\n",
       " 'Date:   Tue Oct 13 15:53:23 2015 +0200',\n",
       " '',\n",
       " '    Fixes #204',\n",
       " '',\n",
       " 'commit 4ecefd56b33ff40415026c23d066775fcd907760',\n",
       " 'Author: Clement Escoffier <clement.escoffier@gmail.com>',\n",
       " 'Date:   Mon Oct 5 15:38:10 2015 +0200',\n",
       " '',\n",
       " '    Allow the static handler to use a custom class loader to load the resources',\n",
       " '',\n",
       " 'commit 4a6f13567bb521437694776f4bd35f2508c094b0',\n",
       " 'Author: Clement Escoffier <clement.escoffier@gmail.com>',\n",
       " 'Date:   Sun Sep 27 11:27:39 2015 +0200',\n",
       " '',\n",
       " '    Extract template engines in their own module.',\n",
       " '    ',\n",
       " '    Signed-off-by: Clement Escoffier <clement.escoffier@gmail.com>']"
      ]
     },
     "execution_count": 445,
     "metadata": {},
     "output_type": "execute_result"
    }
   ],
   "source": [
    "log_data"
   ]
  },
  {
   "cell_type": "code",
   "execution_count": 467,
   "metadata": {},
   "outputs": [
    {
     "name": "stdout",
     "output_type": "stream",
     "text": [
      "Number of commits in between: 248\n"
     ]
    }
   ],
   "source": [
    "log_data_2 = repo.git.log(\"--oneline\",fixing_commit + \"^\", affected_file).splitlines()\n",
    "print(\"Number of commits in between:\", len(log_data))"
   ]
  },
  {
   "cell_type": "code",
   "execution_count": 468,
   "metadata": {},
   "outputs": [
    {
     "data": {
      "text/plain": [
       "['f78ae334 Fix StaticHandlerTest for java 9 and use tcnative only in Java 8',\n",
       " 'e4c9b2cd Add tests for Http2Push and link preload',\n",
       " 'defd10c9 code linting',\n",
       " 'a63647f8 removed unused imports',\n",
       " '18653a37 remove test regarding failure handler which is wrong and added a test showing the new functionality',\n",
       " 'dec3cc6d compare response content-length with actual file size to make it work with windows line endings',\n",
       " 'fca5e891 add default content encoding setter',\n",
       " '8a0dcfae Update StaticHandlerTest.java',\n",
       " '09a24632 Merge pull request #398 from bruders/issues/issue-397',\n",
       " '35c882a4 Fixes #428: proper response for invalid ranges',\n",
       " '0600b478 Add Vary header when using caching',\n",
       " 'b10b1a7d Fix #396 Although spec states GMT is assumed to be the same as UTC it expects strings to be formatted in GMT https://www.w3.org/Protocols/rfc2616/rfc2616-sec3.html#sec3.3.1',\n",
       " \"d74c990c Merge branch 'master' into issues/342\",\n",
       " 'c1c55b4f Fixes #342: do not call twice error handler',\n",
       " 'e47edce0 Fixes #319: backport mimetype support from Yoke',\n",
       " 'a0d63633 fixes #299: Root paths check using Files.listRoots() instead of /',\n",
       " \"a721e7a5 Merge branch 'master' into issue/231\",\n",
       " 'fdbef276 Fixes #231 when using async not found files return 404 not exception',\n",
       " 'bc6f7aca Fixes #204',\n",
       " '4a6f1356 Extract template engines in their own module.']"
      ]
     },
     "execution_count": 468,
     "metadata": {},
     "output_type": "execute_result"
    }
   ],
   "source": [
    "log_data_2"
   ]
  },
  {
   "cell_type": "code",
   "execution_count": null,
   "metadata": {},
   "outputs": [],
   "source": [
    "#Task 5. j."
   ]
  },
  {
   "cell_type": "code",
   "execution_count": 340,
   "metadata": {},
   "outputs": [],
   "source": [
    "log_author_1 =repo.git.log(\"--pretty=format:%an\",affected_file).splitlines()"
   ]
  },
  {
   "cell_type": "code",
   "execution_count": 341,
   "metadata": {},
   "outputs": [
    {
     "data": {
      "text/plain": [
       "['Sean Fitts',\n",
       " 'Arniu',\n",
       " 'bruder.s@gmail.com',\n",
       " 'Rb Krishna',\n",
       " 'slinkydeveloper',\n",
       " 'Paulo Lopes',\n",
       " 'Jonas Berlin',\n",
       " 'Thomas Segismont',\n",
       " 'Clement Escoffier',\n",
       " 'qxo',\n",
       " 'rogelio-o',\n",
       " 'rrorts']"
      ]
     },
     "execution_count": 341,
     "metadata": {},
     "output_type": "execute_result"
    }
   ],
   "source": [
    "list(set(log_author_1))"
   ]
  },
  {
   "cell_type": "code",
   "execution_count": 416,
   "metadata": {},
   "outputs": [],
   "source": [
    "log_author_2 =repo.git.log(\"--pretty=format:%an\",affected_file2).splitlines()"
   ]
  },
  {
   "cell_type": "code",
   "execution_count": 417,
   "metadata": {
    "scrolled": true
   },
   "outputs": [
    {
     "data": {
      "text/plain": [
       "['bruder.s@gmail.com',\n",
       " 'Julien Viet',\n",
       " 'slinkydeveloper',\n",
       " 'Paulo Lopes',\n",
       " 'Jonas Berlin',\n",
       " 'Thomas Segismont',\n",
       " 'Clement Escoffier',\n",
       " 'qxo',\n",
       " 'Rb Krishna',\n",
       " 'alexlehm',\n",
       " 'rrorts']"
      ]
     },
     "execution_count": 417,
     "metadata": {},
     "output_type": "execute_result"
    }
   ],
   "source": [
    "list(set(log_author_2))"
   ]
  },
  {
   "cell_type": "code",
   "execution_count": null,
   "metadata": {},
   "outputs": [],
   "source": [
    "# Task 5. K."
   ]
  },
  {
   "cell_type": "code",
   "execution_count": 418,
   "metadata": {},
   "outputs": [
    {
     "data": {
      "text/plain": [
       "['    37\\tPaulo Lopes',\n",
       " '     8\\tRb Krishna',\n",
       " '     4\\tClement Escoffier',\n",
       " '     2\\tqxo',\n",
       " '     2\\tslinkydeveloper',\n",
       " '     1\\trogelio-o',\n",
       " '     1\\trrorts',\n",
       " '     1\\tThomas Segismont',\n",
       " '     1\\tJonas Berlin',\n",
       " '     1\\tSean Fitts',\n",
       " '     1\\tArniu',\n",
       " '     1\\tbruder.s@gmail.com']"
      ]
     },
     "execution_count": 418,
     "metadata": {},
     "output_type": "execute_result"
    }
   ],
   "source": [
    "repo.git.shortlog(\"--numbered\",\"--summary\",\"HEAD\",affected_file).splitlines()"
   ]
  },
  {
   "cell_type": "code",
   "execution_count": 494,
   "metadata": {},
   "outputs": [
    {
     "data": {
      "text/plain": [
       "['    33\\tPaulo Lopes',\n",
       " '     9\\tJulien Viet',\n",
       " '     6\\tRb Krishna',\n",
       " '     3\\tqxo',\n",
       " '     2\\tThomas Segismont',\n",
       " '     1\\tClement Escoffier',\n",
       " '     1\\tslinkydeveloper',\n",
       " '     1\\tJonas Berlin',\n",
       " '     1\\talexlehm',\n",
       " '     1\\tbruder.s@gmail.com',\n",
       " '     1\\trrorts']"
      ]
     },
     "execution_count": 494,
     "metadata": {},
     "output_type": "execute_result"
    }
   ],
   "source": [
    "repo.git.shortlog(\"--numbered\",\"--summary\",\"HEAD\",affected_file2).splitlines()"
   ]
  },
  {
   "cell_type": "code",
   "execution_count": 440,
   "metadata": {},
   "outputs": [
    {
     "data": {
      "text/plain": [
       "['commit 57a65dce6f4c5aa5e3ce7288685e7f3447eb8f3b',\n",
       " 'Author: Julien Viet <julien@julienviet.com>',\n",
       " 'Date:   Thu Sep 20 09:42:30 2018 +0200',\n",
       " '',\n",
       " \"    CVE-2018-12542: The StaticHandler uses external input to construct a pathname that should be within a restricted directory, but it does not properly neutralize '\\\\' (forward slashes) sequences that can resolve to a location that is outside of that directory when running on Windows Operating Systems. - fixes #1025\"]"
      ]
     },
     "execution_count": 440,
     "metadata": {},
     "output_type": "execute_result"
    }
   ],
   "source": [
    " repo.git.show(\"-s\", fixing_commit).splitlines()"
   ]
  },
  {
   "cell_type": "code",
   "execution_count": null,
   "metadata": {},
   "outputs": [],
   "source": [
    "#Task 7. b."
   ]
  },
  {
   "cell_type": "code",
   "execution_count": 477,
   "metadata": {},
   "outputs": [
    {
     "data": {
      "text/plain": [
       "['Julien Viet']"
      ]
     },
     "execution_count": 477,
     "metadata": {},
     "output_type": "execute_result"
    }
   ],
   "source": [
    "repo.git.log(\"--pretty=format:%an\",fixing_commit,\"-1\", affected_file).splitlines()"
   ]
  },
  {
   "cell_type": "code",
   "execution_count": 479,
   "metadata": {},
   "outputs": [
    {
     "data": {
      "text/plain": [
       "['Julien Viet']"
      ]
     },
     "execution_count": 479,
     "metadata": {},
     "output_type": "execute_result"
    }
   ],
   "source": [
    "repo.git.log(\"--pretty=format:%cn\",fixing_commit,\"-1\", affected_file).splitlines()"
   ]
  },
  {
   "cell_type": "code",
   "execution_count": null,
   "metadata": {},
   "outputs": [],
   "source": [
    "#Task 7. c."
   ]
  },
  {
   "cell_type": "code",
   "execution_count": 490,
   "metadata": {},
   "outputs": [
    {
     "data": {
      "text/plain": [
       "['2018-09-20 09:42:30 +0200']"
      ]
     },
     "execution_count": 490,
     "metadata": {},
     "output_type": "execute_result"
    }
   ],
   "source": [
    "repo.git.log(\"--pretty=format:%ai\",fixing_commit,\"-1\", affected_file).splitlines()"
   ]
  },
  {
   "cell_type": "code",
   "execution_count": 495,
   "metadata": {
    "scrolled": true
   },
   "outputs": [
    {
     "name": "stdout",
     "output_type": "stream",
     "text": [
      " .../vertx/ext/web/handler/impl/StaticHandlerImpl.java   | 17 +++++++++++++++--\n",
      " .../io/vertx/ext/web/handler/StaticHandlerTest.java     |  4 ++++\n",
      " 2 files changed, 19 insertions(+), 2 deletions(-)\n"
     ]
    }
   ],
   "source": [
    "show_data = repo.git.diff(\"--stat\", fixing_commit+\"^\", fixing_commit).splitlines()\n",
    "for line in show_data:\n",
    "    print(line)"
   ]
  },
  {
   "cell_type": "code",
   "execution_count": 528,
   "metadata": {},
   "outputs": [
    {
     "name": "stdout",
     "output_type": "stream",
     "text": [
      "57a65dce6 vertx-web/src/main/java/io/vertx/ext/web/handler/impl/StaticHandlerImpl.java (Julien Viet 2018-09-20 09:42:30 +0200 140)       String path = Utils.urlDecode(context.normalisedPath(), false);\n",
      "57a65dce6 vertx-web/src/main/java/io/vertx/ext/web/handler/impl/StaticHandlerImpl.java (Julien Viet 2018-09-20 09:42:30 +0200 141) \n",
      "d867369f0 src/main/java/io/vertx/ext/apex/middleware/impl/StaticImpl.java              (purplefox   2014-11-21 13:42:38 +0000 142)       if (path == null) {\n",
      "d867369f0 src/main/java/io/vertx/ext/apex/middleware/impl/StaticImpl.java              (purplefox   2014-11-21 13:42:38 +0000 143)         // if the normalized path is null it cannot be resolved\n",
      "3a0005d61 vertx-web/src/main/java/io/vertx/ext/web/handler/impl/StaticHandlerImpl.java (Paulo Lopes 2017-08-08 21:13:37 +0200 144)         log.warn(\"Invalid path: \" + context.request().path());\n",
      "3a0005d61 vertx-web/src/main/java/io/vertx/ext/web/handler/impl/StaticHandlerImpl.java (Paulo Lopes 2017-08-08 21:13:37 +0200 145)         context.next();\n",
      "d867369f0 src/main/java/io/vertx/ext/apex/middleware/impl/StaticImpl.java              (purplefox   2014-11-21 13:42:38 +0000 146)         return;\n",
      "d867369f0 src/main/java/io/vertx/ext/apex/middleware/impl/StaticImpl.java              (purplefox   2014-11-21 13:42:38 +0000 147)       }\n",
      "d867369f0 src/main/java/io/vertx/ext/apex/middleware/impl/StaticImpl.java              (purplefox   2014-11-21 13:42:38 +0000 148) \n",
      "57a65dce6 vertx-web/src/main/java/io/vertx/ext/web/handler/impl/StaticHandlerImpl.java (Julien Viet 2018-09-20 09:42:30 +0200 149)       if (File.separatorChar != '/') {\n",
      "57a65dce6 vertx-web/src/main/java/io/vertx/ext/web/handler/impl/StaticHandlerImpl.java (Julien Viet 2018-09-20 09:42:30 +0200 150)         // although forward slashes are not path separators according to the rfc3986 if\n"
     ]
    }
   ],
   "source": [
    "blame_data2 = repo.git.blame(\"-wC\",\"-L 140, +150\",fixing_commit,affected_file).splitlines()\n",
    "for line in blame_data2:\n",
    "    print(line)"
   ]
  },
  {
   "cell_type": "code",
   "execution_count": null,
   "metadata": {},
   "outputs": [],
   "source": []
  }
 ],
 "metadata": {
  "kernelspec": {
   "display_name": "Python 3",
   "language": "python",
   "name": "python3"
  },
  "language_info": {
   "codemirror_mode": {
    "name": "ipython",
    "version": 3
   },
   "file_extension": ".py",
   "mimetype": "text/x-python",
   "name": "python",
   "nbconvert_exporter": "python",
   "pygments_lexer": "ipython3",
   "version": "3.8.5"
  }
 },
 "nbformat": 4,
 "nbformat_minor": 2
}
